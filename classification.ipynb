{
 "cells": [
  {
   "cell_type": "code",
   "execution_count": null,
   "metadata": {},
   "outputs": [],
   "source": [
    "! pip install pandas"
   ]
  },
  {
   "cell_type": "code",
   "execution_count": null,
   "metadata": {},
   "outputs": [],
   "source": [
    "# !conda list\n"
   ]
  },
  {
   "cell_type": "markdown",
   "metadata": {},
   "source": [
    "### CSV文件处理"
   ]
  },
  {
   "cell_type": "code",
   "execution_count": 6,
   "metadata": {},
   "outputs": [
    {
     "data": {
      "text/html": [
       "<div>\n",
       "<style scoped>\n",
       "    .dataframe tbody tr th:only-of-type {\n",
       "        vertical-align: middle;\n",
       "    }\n",
       "\n",
       "    .dataframe tbody tr th {\n",
       "        vertical-align: top;\n",
       "    }\n",
       "\n",
       "    .dataframe thead th {\n",
       "        text-align: right;\n",
       "    }\n",
       "</style>\n",
       "<table border=\"1\" class=\"dataframe\">\n",
       "  <thead>\n",
       "    <tr style=\"text-align: right;\">\n",
       "      <th></th>\n",
       "      <th>建言类型</th>\n",
       "      <th>问题</th>\n",
       "      <th>改进意见</th>\n",
       "    </tr>\n",
       "  </thead>\n",
       "  <tbody>\n",
       "    <tr>\n",
       "      <th>0</th>\n",
       "      <td>安全隐患</td>\n",
       "      <td>用户隐私数据保护措施不完善</td>\n",
       "      <td>加强数据加密和权限申请，确保用户个人信息安全。</td>\n",
       "    </tr>\n",
       "    <tr>\n",
       "      <th>1</th>\n",
       "      <td>安全隐患</td>\n",
       "      <td>存在安全漏洞容易受到黑客攻击</td>\n",
       "      <td>加强网络安全防护，定期进行漏洞修复和安全测试，确保用户数据的安全性。</td>\n",
       "    </tr>\n",
       "    <tr>\n",
       "      <th>2</th>\n",
       "      <td>安全隐患</td>\n",
       "      <td>系统登录认证方式薄弱，易受到非法访问</td>\n",
       "      <td>改进系统登录认证机制，增加多重身份验证，提高账号安全性。</td>\n",
       "    </tr>\n",
       "    <tr>\n",
       "      <th>3</th>\n",
       "      <td>安全隐患</td>\n",
       "      <td>缺乏日志监控和异常检测机制</td>\n",
       "      <td>建立日志监控和异常检测系统，及时发现和应对安全威胁。</td>\n",
       "    </tr>\n",
       "    <tr>\n",
       "      <th>4</th>\n",
       "      <td>安全隐患</td>\n",
       "      <td>内部员工权限管理混乱，存在安全隐患</td>\n",
       "      <td>加强员工权限管理，实行权限分级制度，防止数据泄露。</td>\n",
       "    </tr>\n",
       "  </tbody>\n",
       "</table>\n",
       "</div>"
      ],
      "text/plain": [
       "   建言类型                  问题                                改进意见\n",
       "0  安全隐患       用户隐私数据保护措施不完善             加强数据加密和权限申请，确保用户个人信息安全。\n",
       "1  安全隐患      存在安全漏洞容易受到黑客攻击  加强网络安全防护，定期进行漏洞修复和安全测试，确保用户数据的安全性。\n",
       "2  安全隐患  系统登录认证方式薄弱，易受到非法访问        改进系统登录认证机制，增加多重身份验证，提高账号安全性。\n",
       "3  安全隐患       缺乏日志监控和异常检测机制          建立日志监控和异常检测系统，及时发现和应对安全威胁。\n",
       "4  安全隐患   内部员工权限管理混乱，存在安全隐患           加强员工权限管理，实行权限分级制度，防止数据泄露。"
      ]
     },
     "execution_count": 6,
     "metadata": {},
     "output_type": "execute_result"
    }
   ],
   "source": [
    "import pandas as pd\n",
    "df = pd.read_csv('data.csv', encoding='gbk')\n",
    "df.head()"
   ]
  },
  {
   "cell_type": "code",
   "execution_count": null,
   "metadata": {},
   "outputs": [],
   "source": [
    "df.rename(columns={'建言类型':'label', '问题':'text', '改进意见':'suggestions'}, inplace=True)\n",
    "# df.head()\n",
    "df['label'] = df['label'].apply(lambda x: str(x))\n",
    "df['text'] = df['text'].apply(lambda x: str(x))\n",
    "df['suggestions'] = df['suggestions'].apply(lambda x: str(x))\n",
    "df['text1'] = df['text'] + ',' + df['suggestions']\n",
    "\n",
    "df.head()\n"
   ]
  },
  {
   "cell_type": "code",
   "execution_count": 8,
   "metadata": {},
   "outputs": [
    {
     "data": {
      "text/html": [
       "<div>\n",
       "<style scoped>\n",
       "    .dataframe tbody tr th:only-of-type {\n",
       "        vertical-align: middle;\n",
       "    }\n",
       "\n",
       "    .dataframe tbody tr th {\n",
       "        vertical-align: top;\n",
       "    }\n",
       "\n",
       "    .dataframe thead th {\n",
       "        text-align: right;\n",
       "    }\n",
       "</style>\n",
       "<table border=\"1\" class=\"dataframe\">\n",
       "  <thead>\n",
       "    <tr style=\"text-align: right;\">\n",
       "      <th></th>\n",
       "      <th>label</th>\n",
       "      <th>text</th>\n",
       "    </tr>\n",
       "  </thead>\n",
       "  <tbody>\n",
       "    <tr>\n",
       "      <th>0</th>\n",
       "      <td>安全隐患</td>\n",
       "      <td>用户隐私数据保护措施不完善,加强数据加密和权限申请，确保用户个人信息安全。</td>\n",
       "    </tr>\n",
       "    <tr>\n",
       "      <th>1</th>\n",
       "      <td>安全隐患</td>\n",
       "      <td>存在安全漏洞容易受到黑客攻击,加强网络安全防护，定期进行漏洞修复和安全测试，确保用户数据的安全性。</td>\n",
       "    </tr>\n",
       "    <tr>\n",
       "      <th>2</th>\n",
       "      <td>安全隐患</td>\n",
       "      <td>系统登录认证方式薄弱，易受到非法访问,改进系统登录认证机制，增加多重身份验证，提高账号安全性。</td>\n",
       "    </tr>\n",
       "    <tr>\n",
       "      <th>3</th>\n",
       "      <td>安全隐患</td>\n",
       "      <td>缺乏日志监控和异常检测机制,建立日志监控和异常检测系统，及时发现和应对安全威胁。</td>\n",
       "    </tr>\n",
       "    <tr>\n",
       "      <th>4</th>\n",
       "      <td>安全隐患</td>\n",
       "      <td>内部员工权限管理混乱，存在安全隐患,加强员工权限管理，实行权限分级制度，防止数据泄露。</td>\n",
       "    </tr>\n",
       "  </tbody>\n",
       "</table>\n",
       "</div>"
      ],
      "text/plain": [
       "  label                                               text\n",
       "0  安全隐患              用户隐私数据保护措施不完善,加强数据加密和权限申请，确保用户个人信息安全。\n",
       "1  安全隐患  存在安全漏洞容易受到黑客攻击,加强网络安全防护，定期进行漏洞修复和安全测试，确保用户数据的安全性。\n",
       "2  安全隐患    系统登录认证方式薄弱，易受到非法访问,改进系统登录认证机制，增加多重身份验证，提高账号安全性。\n",
       "3  安全隐患           缺乏日志监控和异常检测机制,建立日志监控和异常检测系统，及时发现和应对安全威胁。\n",
       "4  安全隐患        内部员工权限管理混乱，存在安全隐患,加强员工权限管理，实行权限分级制度，防止数据泄露。"
      ]
     },
     "execution_count": 8,
     "metadata": {},
     "output_type": "execute_result"
    }
   ],
   "source": [
    "# temp = df['text1']\n",
    "df.drop(labels=['text'], axis=1, inplace=True)\n",
    "df.drop(labels=['suggestions'], axis=1, inplace=True)\n",
    "df.rename(columns={'text1':'text'}, inplace=True)\n",
    "df.head()"
   ]
  },
  {
   "cell_type": "markdown",
   "metadata": {},
   "source": [
    "### 划分数据集"
   ]
  },
  {
   "cell_type": "code",
   "execution_count": null,
   "metadata": {},
   "outputs": [],
   "source": [
    "! pip install scikit_learn"
   ]
  },
  {
   "cell_type": "code",
   "execution_count": null,
   "metadata": {},
   "outputs": [],
   "source": [
    "from sklearn.model_selection import train_test_split\n",
    "label = df.label\n",
    "df.drop(columns='label', inplace=True)\n",
    "\n",
    "df_train, df_test, y_train, y_test = train_test_split(df, label, test_size = 0.2, stratify = label, random_state = 42)\n",
    "df_train['label'] = y_train"
   ]
  },
  {
   "cell_type": "code",
   "execution_count": 21,
   "metadata": {},
   "outputs": [
    {
     "data": {
      "text/html": [
       "<div>\n",
       "<style scoped>\n",
       "    .dataframe tbody tr th:only-of-type {\n",
       "        vertical-align: middle;\n",
       "    }\n",
       "\n",
       "    .dataframe tbody tr th {\n",
       "        vertical-align: top;\n",
       "    }\n",
       "\n",
       "    .dataframe thead th {\n",
       "        text-align: right;\n",
       "    }\n",
       "</style>\n",
       "<table border=\"1\" class=\"dataframe\">\n",
       "  <thead>\n",
       "    <tr style=\"text-align: right;\">\n",
       "      <th></th>\n",
       "      <th>text</th>\n",
       "      <th>label</th>\n",
       "    </tr>\n",
       "  </thead>\n",
       "  <tbody>\n",
       "    <tr>\n",
       "      <th>76</th>\n",
       "      <td>客户服务质量不稳定，需提升服务一致性,制定统一的客户服务标准，确保服务质量一致性和稳定性。</td>\n",
       "      <td>客户服务</td>\n",
       "    </tr>\n",
       "    <tr>\n",
       "      <th>65</th>\n",
       "      <td>客户服务流程复杂，需简化服务流程,简化客户服务流程，提高服务效率，节省客户时间。</td>\n",
       "      <td>客户服务</td>\n",
       "    </tr>\n",
       "    <tr>\n",
       "      <th>161</th>\n",
       "      <td>网站内容更新不及时，影响用户粘性,定期更新网站内容，提供有价值的信息，增加用户粘性。</td>\n",
       "      <td>网络运营</td>\n",
       "    </tr>\n",
       "    <tr>\n",
       "      <th>192</th>\n",
       "      <td>存在安全漏洞容易受到黑客攻击,加强网络安全防护，定期进行漏洞修复和安全测试，确保用户数据的安全性。</td>\n",
       "      <td>安全隐患</td>\n",
       "    </tr>\n",
       "    <tr>\n",
       "      <th>54</th>\n",
       "      <td>客户投诉处理流程繁琐，影响用户满意度,简化投诉处理流程，提高问题解决效率，增强用户体验。</td>\n",
       "      <td>客户服务</td>\n",
       "    </tr>\n",
       "    <tr>\n",
       "      <th>...</th>\n",
       "      <td>...</td>\n",
       "      <td>...</td>\n",
       "    </tr>\n",
       "    <tr>\n",
       "      <th>157</th>\n",
       "      <td>网站信息分类不清晰，导航不便捷,优化网站信息分类，优化导航结构，提升用户浏览体验。</td>\n",
       "      <td>网络运营</td>\n",
       "    </tr>\n",
       "    <tr>\n",
       "      <th>36</th>\n",
       "      <td>系统漏洞修复不及时，易遭受黑客攻击,建立及时漏洞修复流程，确保系统安全稳定。</td>\n",
       "      <td>安全隐患</td>\n",
       "    </tr>\n",
       "    <tr>\n",
       "      <th>89</th>\n",
       "      <td>客户服务响应速度慢，需优化服务流程,优化客户服务流程，提高服务响应速度，增强客户体验。</td>\n",
       "      <td>客户服务</td>\n",
       "    </tr>\n",
       "    <tr>\n",
       "      <th>147</th>\n",
       "      <td>市场调研数据分析不够深入，需要更准确的数据支持,加强市场调研团队能力，深入分析市场数据。</td>\n",
       "      <td>市场运营</td>\n",
       "    </tr>\n",
       "    <tr>\n",
       "      <th>98</th>\n",
       "      <td>线下推广投入不足，未触达潜在客户群体,增加线下推广投入，开展活动与展会，拓展潜在客户渠道。</td>\n",
       "      <td>市场运营</td>\n",
       "    </tr>\n",
       "  </tbody>\n",
       "</table>\n",
       "<p>188 rows × 2 columns</p>\n",
       "</div>"
      ],
      "text/plain": [
       "                                                  text label\n",
       "76       客户服务质量不稳定，需提升服务一致性,制定统一的客户服务标准，确保服务质量一致性和稳定性。  客户服务\n",
       "65            客户服务流程复杂，需简化服务流程,简化客户服务流程，提高服务效率，节省客户时间。  客户服务\n",
       "161         网站内容更新不及时，影响用户粘性,定期更新网站内容，提供有价值的信息，增加用户粘性。  网络运营\n",
       "192  存在安全漏洞容易受到黑客攻击,加强网络安全防护，定期进行漏洞修复和安全测试，确保用户数据的安全性。  安全隐患\n",
       "54        客户投诉处理流程繁琐，影响用户满意度,简化投诉处理流程，提高问题解决效率，增强用户体验。  客户服务\n",
       "..                                                 ...   ...\n",
       "157          网站信息分类不清晰，导航不便捷,优化网站信息分类，优化导航结构，提升用户浏览体验。  网络运营\n",
       "36              系统漏洞修复不及时，易遭受黑客攻击,建立及时漏洞修复流程，确保系统安全稳定。  安全隐患\n",
       "89         客户服务响应速度慢，需优化服务流程,优化客户服务流程，提高服务响应速度，增强客户体验。  客户服务\n",
       "147       市场调研数据分析不够深入，需要更准确的数据支持,加强市场调研团队能力，深入分析市场数据。  市场运营\n",
       "98       线下推广投入不足，未触达潜在客户群体,增加线下推广投入，开展活动与展会，拓展潜在客户渠道。  市场运营\n",
       "\n",
       "[188 rows x 2 columns]"
      ]
     },
     "execution_count": 21,
     "metadata": {},
     "output_type": "execute_result"
    }
   ],
   "source": [
    "# df_train\n",
    "# df['text']"
   ]
  },
  {
   "cell_type": "code",
   "execution_count": null,
   "metadata": {},
   "outputs": [],
   "source": [
    "# 拆分训练集和验证集\n",
    "label = df_train.label\n",
    "df_train.drop(columns='label', inplace=True)\n",
    "\n",
    "df_train, df_val, y_train, y_val = train_test_split(\n",
    "    df_train, label, test_size=0.05, stratify=label, random_state=42\n",
    ")\n",
    "df_train['label'] = y_train\n",
    "df_val['label'] = y_val"
   ]
  },
  {
   "cell_type": "code",
   "execution_count": null,
   "metadata": {},
   "outputs": [],
   "source": [
    "# !pip install datasets"
   ]
  },
  {
   "cell_type": "code",
   "execution_count": null,
   "metadata": {},
   "outputs": [],
   "source": [
    "# 更改为transformers数据集\n",
    "from datasets import Dataset, DatasetDict\n",
    "data = DatasetDict()\n",
    "data['train'] = Dataset.from_pandas(df_train)\n",
    "data['validation'] = Dataset.from_pandas(df_val)\n",
    "data['test'] = Dataset.from_pandas(df_test)\n"
   ]
  },
  {
   "cell_type": "code",
   "execution_count": null,
   "metadata": {},
   "outputs": [],
   "source": [
    "# !pip install accelerate -U\n"
   ]
  },
  {
   "cell_type": "code",
   "execution_count": null,
   "metadata": {},
   "outputs": [],
   "source": [
    "# 对文本进行编码\n",
    "from transformers import AutoTokenizer\n",
    "model_pretrained = 'bert-base-chinese'\n",
    "tokenizer = AutoTokenizer.from_pretrained(model_pretrained)\n",
    "\n",
    "def tokenize(batch):\n",
    "    return tokenizer(batch['text'], padding=True, truncation=True)\n",
    "\n",
    "encoded = data.map(tokenize, batched=True, batch_size=None)"
   ]
  },
  {
   "cell_type": "markdown",
   "metadata": {},
   "source": [
    "### 预训练模型微调"
   ]
  },
  {
   "cell_type": "code",
   "execution_count": 23,
   "metadata": {},
   "outputs": [
    {
     "name": "stdout",
     "output_type": "stream",
     "text": [
      "Looking in indexes: https://pypi.tuna.tsinghua.edu.cn/simple\n",
      "Collecting tqdm\n",
      "  Downloading https://pypi.tuna.tsinghua.edu.cn/packages/e6/02/a2cff6306177ae6bc73bc0665065de51dfb3b9db7373e122e2735faf0d97/tqdm-4.65.0-py3-none-any.whl (77 kB)\n",
      "     -------------------------------------- 77.1/77.1 kB 857.1 kB/s eta 0:00:00\n",
      "Requirement already satisfied: colorama in d:\\anaconda\\envs\\heat\\lib\\site-packages (from tqdm) (0.4.6)\n",
      "Installing collected packages: tqdm\n",
      "Successfully installed tqdm-4.65.0\n"
     ]
    }
   ],
   "source": [
    "! pip install tqdm"
   ]
  },
  {
   "cell_type": "code",
   "execution_count": null,
   "metadata": {},
   "outputs": [],
   "source": [
    "import torch\n",
    "# # 使用m1\n",
    "# device = torch.device('mps' if torch.has_mps else 'cpu')\n",
    "# 使用N卡\n",
    "device = torch.device('cuda' if torch.cuda.is_available() else 'cpu')\n",
    "\n",
    "#实例化模型\n",
    "from transformers import AutoModelForSequenceClassification\n",
    "\n",
    "model = AutoModelForSequenceClassification.from_pretrained(\n",
    "    model_pretrained, num_labels=4\n",
    ").to(device)\n",
    "\n",
    "# 设置训练参数\n",
    "\n",
    "from transformers import TrainingArguments\n",
    "batch_size = 4\n",
    "logging_steps = len(encoded['train']) // batch_size\n",
    "model_name = f'{model_pretrained}-finetuned-suggestions'\n",
    "\n",
    "training_args = TrainingArguments(\n",
    "    report_to='none',\n",
    "    output_dir=model_name,\n",
    "    num_train_epochs=2,\n",
    "    learning_rate=2e-5,\n",
    "    per_device_train_batch_size=batch_size,\n",
    "    per_device_eval_batch_size=batch_size,\n",
    "    weight_decay=.01,\n",
    "    evaluation_strategy='epoch',\n",
    "    disable_tqdm=False,\n",
    "    logging_steps=logging_steps,\n",
    "    log_level='error',\n",
    ")\n",
    "\n",
    "# 训练模型和评估\n",
    "from transformers import Trainer\n",
    "from sklearn import accuracy_score, f1_score\n",
    "def compute_metrics(pred):\n",
    "    labels = pred.label_ids\n",
    "    preds = pred.prediction.argmax(-1)\n",
    "    f1 = f1_score(labels, preds, average='weighted')\n",
    "    acc = accuracy_score(labels, preds)\n",
    "    return {'accuracy':'acc', 'f1':f1}\n",
    "\n",
    "trainer = Trainer(\n",
    "    model=model,\n",
    "    args=training_args,\n",
    "    compute_metrics=compute_metrics,\n",
    "    train_dataset=encoded['train'],\n",
    "    eval_dataset=encoded['validation'],\n",
    "    tokenizer=tokenizer,\n",
    ")\n",
    "trainer.train()\n",
    "trainer.save_model()\n"
   ]
  }
 ],
 "metadata": {
  "interpreter": {
   "hash": "31f2aee4e71d21fbe5cf8b01ff0e069b9275f58929596ceb00d14d90e3e16cd6"
  },
  "kernelspec": {
   "display_name": "Python 3.8.9 64-bit",
   "language": "python",
   "name": "python3"
  },
  "language_info": {
   "codemirror_mode": {
    "name": "ipython",
    "version": 3
   },
   "file_extension": ".py",
   "mimetype": "text/x-python",
   "name": "python",
   "nbconvert_exporter": "python",
   "pygments_lexer": "ipython3",
   "version": "3.8.17"
  },
  "orig_nbformat": 4
 },
 "nbformat": 4,
 "nbformat_minor": 2
}
